{
  "nbformat": 4,
  "nbformat_minor": 0,
  "metadata": {
    "colab": {
      "name": "Gráfico de waffle",
      "provenance": [],
      "collapsed_sections": [],
      "authorship_tag": "ABX9TyNbn1/cBhJM9NTloSAVnUWs",
      "include_colab_link": true
    },
    "kernelspec": {
      "name": "python3",
      "display_name": "Python 3"
    }
  },
  "cells": [
    {
      "cell_type": "markdown",
      "metadata": {
        "id": "view-in-github",
        "colab_type": "text"
      },
      "source": [
        "<a href=\"https://colab.research.google.com/github/Cassio-Tieres/grafico-waffle/blob/master/Gr%C3%A1fico_de_waffle.ipynb\" target=\"_parent\"><img src=\"https://colab.research.google.com/assets/colab-badge.svg\" alt=\"Open In Colab\"/></a>"
      ]
    },
    {
      "cell_type": "markdown",
      "metadata": {
        "id": "--HZ7wsWaOW1",
        "colab_type": "text"
      },
      "source": [
        "# Criação de gráfico waffle\n"
      ]
    },
    {
      "cell_type": "markdown",
      "metadata": {
        "id": "zln_p-IfbJ-S",
        "colab_type": "text"
      },
      "source": [
        "Eu estou usando o google colab para a criação desse gráfico.\n",
        "\n",
        "\n",
        "Eu posso instalar a biblioteca necessária diretamente por ele com o seguinte comando:\n"
      ]
    },
    {
      "cell_type": "code",
      "metadata": {
        "id": "d79mq1yPbY0y",
        "colab_type": "code",
        "colab": {
          "base_uri": "https://localhost:8080/",
          "height": 34
        },
        "outputId": "d4b1281b-6372-46e0-84ab-70c1aad9f0a3"
      },
      "source": [
        "#instalar o pywaffle\n",
        "!pip install pywaffle -q"
      ],
      "execution_count": 1,
      "outputs": [
        {
          "output_type": "stream",
          "text": [
            "\u001b[?25l\r\u001b[K     |▋                               | 10kB 20.2MB/s eta 0:00:01\r\u001b[K     |█▎                              | 20kB 1.7MB/s eta 0:00:01\r\u001b[K     |█▉                              | 30kB 2.2MB/s eta 0:00:01\r\u001b[K     |██▌                             | 40kB 2.4MB/s eta 0:00:01\r\u001b[K     |███                             | 51kB 1.9MB/s eta 0:00:01\r\u001b[K     |███▊                            | 61kB 2.2MB/s eta 0:00:01\r\u001b[K     |████▍                           | 71kB 2.4MB/s eta 0:00:01\r\u001b[K     |█████                           | 81kB 2.7MB/s eta 0:00:01\r\u001b[K     |█████▋                          | 92kB 2.8MB/s eta 0:00:01\r\u001b[K     |██████▏                         | 102kB 2.7MB/s eta 0:00:01\r\u001b[K     |██████▉                         | 112kB 2.7MB/s eta 0:00:01\r\u001b[K     |███████▌                        | 122kB 2.7MB/s eta 0:00:01\r\u001b[K     |████████                        | 133kB 2.7MB/s eta 0:00:01\r\u001b[K     |████████▊                       | 143kB 2.7MB/s eta 0:00:01\r\u001b[K     |█████████▎                      | 153kB 2.7MB/s eta 0:00:01\r\u001b[K     |██████████                      | 163kB 2.7MB/s eta 0:00:01\r\u001b[K     |██████████▋                     | 174kB 2.7MB/s eta 0:00:01\r\u001b[K     |███████████▏                    | 184kB 2.7MB/s eta 0:00:01\r\u001b[K     |███████████▉                    | 194kB 2.7MB/s eta 0:00:01\r\u001b[K     |████████████▍                   | 204kB 2.7MB/s eta 0:00:01\r\u001b[K     |█████████████                   | 215kB 2.7MB/s eta 0:00:01\r\u001b[K     |█████████████▊                  | 225kB 2.7MB/s eta 0:00:01\r\u001b[K     |██████████████▎                 | 235kB 2.7MB/s eta 0:00:01\r\u001b[K     |███████████████                 | 245kB 2.7MB/s eta 0:00:01\r\u001b[K     |███████████████▌                | 256kB 2.7MB/s eta 0:00:01\r\u001b[K     |████████████████▏               | 266kB 2.7MB/s eta 0:00:01\r\u001b[K     |████████████████▉               | 276kB 2.7MB/s eta 0:00:01\r\u001b[K     |█████████████████▍              | 286kB 2.7MB/s eta 0:00:01\r\u001b[K     |██████████████████              | 296kB 2.7MB/s eta 0:00:01\r\u001b[K     |██████████████████▋             | 307kB 2.7MB/s eta 0:00:01\r\u001b[K     |███████████████████▎            | 317kB 2.7MB/s eta 0:00:01\r\u001b[K     |████████████████████            | 327kB 2.7MB/s eta 0:00:01\r\u001b[K     |████████████████████▌           | 337kB 2.7MB/s eta 0:00:01\r\u001b[K     |█████████████████████▏          | 348kB 2.7MB/s eta 0:00:01\r\u001b[K     |█████████████████████▊          | 358kB 2.7MB/s eta 0:00:01\r\u001b[K     |██████████████████████▍         | 368kB 2.7MB/s eta 0:00:01\r\u001b[K     |███████████████████████         | 378kB 2.7MB/s eta 0:00:01\r\u001b[K     |███████████████████████▋        | 389kB 2.7MB/s eta 0:00:01\r\u001b[K     |████████████████████████▎       | 399kB 2.7MB/s eta 0:00:01\r\u001b[K     |████████████████████████▉       | 409kB 2.7MB/s eta 0:00:01\r\u001b[K     |█████████████████████████▌      | 419kB 2.7MB/s eta 0:00:01\r\u001b[K     |██████████████████████████▏     | 430kB 2.7MB/s eta 0:00:01\r\u001b[K     |██████████████████████████▊     | 440kB 2.7MB/s eta 0:00:01\r\u001b[K     |███████████████████████████▍    | 450kB 2.7MB/s eta 0:00:01\r\u001b[K     |████████████████████████████    | 460kB 2.7MB/s eta 0:00:01\r\u001b[K     |████████████████████████████▋   | 471kB 2.7MB/s eta 0:00:01\r\u001b[K     |█████████████████████████████▎  | 481kB 2.7MB/s eta 0:00:01\r\u001b[K     |█████████████████████████████▉  | 491kB 2.7MB/s eta 0:00:01\r\u001b[K     |██████████████████████████████▌ | 501kB 2.7MB/s eta 0:00:01\r\u001b[K     |███████████████████████████████ | 512kB 2.7MB/s eta 0:00:01\r\u001b[K     |███████████████████████████████▊| 522kB 2.7MB/s eta 0:00:01\r\u001b[K     |████████████████████████████████| 532kB 2.7MB/s \n",
            "\u001b[?25h"
          ],
          "name": "stdout"
        }
      ]
    },
    {
      "cell_type": "markdown",
      "metadata": {
        "id": "uv4fRUb3b31A",
        "colab_type": "text"
      },
      "source": [
        "Logo após a instalação, podemos já criar os dados que vamos implantar no gráfico.\n",
        "\n",
        "Vamos supor:\n",
        "Uma pesquisa da Folha de São Paulo identificou que 20% dos brasileiros falam bolacha, 48% falam biscoito e 19% fala salgadinho!\n",
        "\n",
        "poderiamos usar um gráfico pizza, mas a intenção é sair do padrão."
      ]
    },
    {
      "cell_type": "code",
      "metadata": {
        "id": "yK0x2Y4qcpkk",
        "colab_type": "code",
        "colab": {
          "base_uri": "https://localhost:8080/",
          "height": 140
        },
        "outputId": "e92cada0-50c8-4dda-80f6-1745f568f8f1"
      },
      "source": [
        "# importe as bibliotecas\n",
        "import matplotlib.pyplot as plt\n",
        "from pywaffle import Waffle\n",
        "\n",
        "figure = plt.figure(\n",
        "    FigureClass=Waffle,\n",
        "    rows=4, \n",
        "    columns=10,\n",
        "    values={'Bolacha': 20,\n",
        "            'Biscoito': 48,\n",
        "            'Salgadinho': 19},\n",
        "    legend={'loc': 'upper left',\n",
        "            'bbox_to_anchor': (1.1, 1)}\n",
        "\n",
        "    )\n",
        "\n",
        "plt.show()"
      ],
      "execution_count": 3,
      "outputs": [
        {
          "output_type": "display_data",
          "data": {
            "image/png": "[encoded data removed]",
            "text/plain": [
              "<Waffle size 432x288 with 1 Axes>"
            ]
          },
          "metadata": {
            "tags": [],
            "needs_background": "light"
          }
        }
      ]
    },
    {
      "cell_type": "markdown",
      "metadata": {
        "id": "clEFxyvceVIp",
        "colab_type": "text"
      },
      "source": [
        "\n",
        "\n",
        "import matplotlib.pyplot as plt\n",
        "\n",
        "from pywaffle import Waffle\n",
        "\n",
        "figure = plt.figure(\n",
        "\n",
        "    FigureClass=Waffle, <!--Esse waffle importamos logo acima-->\n",
        "\n",
        "    rows=4, <!--Número de Linhas-->\n",
        "\n",
        "    columns=10,<!--Número de colunas-->\n",
        "\n",
        "    values={'Bolacha': 20, <!--Valores para colocar a proporção-->\n",
        "\n",
        "            'Biscoito': 48,\n",
        "\n",
        "            'Salgadinho': 19},\n",
        "\n",
        "    legend={'loc': 'upper left',\n",
        "            'bbox_to_anchor': (1.1, 1)}<!--Coloquei só pra ele ficar de lado-->\n",
        "\n",
        "\n",
        "    )\n",
        "\n",
        "plt.show() <!--Execução da célula-->"
      ]
    },
    {
      "cell_type": "markdown",
      "metadata": {
        "id": "FJFArgM_g5_1",
        "colab_type": "text"
      },
      "source": [
        "#Customização do gráfico\n",
        "\n",
        "O pywaffle é uma biblioteca altamente customozável, ele aceita ícones do Font Awesome.\n",
        "\n",
        "Vamos usar um ícone em um gráfico que representa as estátisticas de ocorrências e acidentes com aviões no Brasil. Para isso, importamos a base de dados do Centro de Prevenção e Investigação de Acidentes Aeronáuticos.\n",
        "\n",
        "\n",
        "Importaremos a biblioteca panda para importar os dados."
      ]
    },
    {
      "cell_type": "code",
      "metadata": {
        "id": "Xi-RqYZVh2VE",
        "colab_type": "code",
        "colab": {
          "base_uri": "https://localhost:8080/",
          "height": 123
        },
        "outputId": "05d24a92-15e7-4b1d-dccd-5c99609a810a"
      },
      "source": [
        "import pandas as pd\n",
        "\n",
        "dadoscenipa = pd.read_csv(\"https://raw.githubusercontent.com/carlosfab/curso_data_science_na_pratica/master/modulo_02/ocorrencias_aviacao.csv\")\n",
        "\n",
        "#extrair value counts da variavel ocorrencia_classificacao\n",
        "data = dadoscenipa.ocorrencia_classificacao.value_counts().to_dict()\n",
        "\n",
        "#plotar gráfico waffle\n",
        "figure = plt.figure(\n",
        "                    FigureClass=Waffle,\n",
        "                    rows=5,\n",
        "                    columns=15,\n",
        "                    colors=(\"#232066\", \"#983D3D\", \"#DCB732\"),\n",
        "                    values=data, icons='plane', icon_size=12,\n",
        "                    legend={'loc': 'upper left', 'bbox_to_anchor': (1,1)},\n",
        "                    icon_legend=True\n",
        "                    )\n",
        "\n",
        "plt.show()\n",
        "\n",
        "\n",
        "\n"
      ],
      "execution_count": 13,
      "outputs": [
        {
          "output_type": "display_data",
          "data": {
            "image/png": "[encoded data removed]",
            "text/plain": [
              "<Waffle size 432x288 with 1 Axes>"
            ]
          },
          "metadata": {
            "tags": [],
            "needs_background": "light"
          }
        }
      ]
    },
    {
      "cell_type": "code",
      "metadata": {
        "id": "oSCe63bWn2kf",
        "colab_type": "code",
        "colab": {}
      },
      "source": [
        ""
      ],
      "execution_count": null,
      "outputs": []
    },
    {
      "cell_type": "markdown",
      "metadata": {
        "id": "qXa042TcnzSy",
        "colab_type": "text"
      },
      "source": [
        "Usei a imagem *plane*, mas também existem vários icons para se utilizar na hora da plotagem usando Waffle.\n",
        "\n",
        "Podemos usar em outros exemplos para representar o número de pessoas em uma sala, por exemplo."
      ]
    },
    {
      "cell_type": "code",
      "metadata": {
        "id": "mTqPgRfCoYX5",
        "colab_type": "code",
        "colab": {
          "base_uri": "https://localhost:8080/",
          "height": 210
        },
        "outputId": "727a95e3-443d-4dea-8d6f-e65f851af8d1"
      },
      "source": [
        "#plotar quantidade de homens e mulheres em uma sala\n",
        "fig = plt.figure(\n",
        "    FigureClass=Waffle,\n",
        "    rows=8,\n",
        "    values={'Homens': 48, 'Mulheres': 66},\n",
        "    colors=(\"#232066\", \"#983D3D\"),\n",
        "    legend={'loc': 'upper left', 'bbox_to_anchor': (1,1)},\n",
        "    icons='child', icon_size=15,\n",
        "    icon_legend=True\n",
        "    )\n",
        "fig.set_tight_layout(False)\n",
        "plt.show()"
      ],
      "execution_count": 22,
      "outputs": [
        {
          "output_type": "display_data",
          "data": {
            "image/png": "[encoded data removed]",
            "text/plain": [
              "<Waffle size 432x288 with 1 Axes>"
            ]
          },
          "metadata": {
            "tags": [],
            "needs_background": "light"
          }
        }
      ]
    },
    {
      "cell_type": "markdown",
      "metadata": {
        "id": "pYeLvAfYqFKb",
        "colab_type": "text"
      },
      "source": [
        "#Gráficos Diferenciados\n",
        "\n",
        "Vale fugir um pouco dos gráficos tradicionais.\n",
        "\n",
        "Gráficos customizados costumam passar a informação com mais clareza, contribuem para a Anaĺise exploratória de Dados e compartilham representação dos dados sem viés."
      ]
    }
  ]
}
